{
 "cells": [
  {
   "cell_type": "markdown",
   "metadata": {},
   "source": [
    "# 一、中原爬蟲："
   ]
  },
  {
   "cell_type": "markdown",
   "metadata": {},
   "source": [
    "### step1.引入套件&設定環境"
   ]
  },
  {
   "cell_type": "code",
   "execution_count": 1,
   "metadata": {},
   "outputs": [],
   "source": [
    "from selenium import webdriver\n",
    "from selenium.webdriver.common.by import By\n",
    "from selenium.webdriver.support.ui import WebDriverWait\n",
    "from selenium.webdriver.support import expected_conditions as EC\n",
    "from bs4 import BeautifulSoup\n",
    "import numpy as np\n",
    "import os \n",
    "import time \n",
    "import pandas as pd\n",
    "import urllib\n",
    "import math\n",
    "#math.ceil() 無條件進位\n",
    "#math.floor() 無條件捨去\n",
    "#round() 四捨五入"
   ]
  },
  {
   "cell_type": "code",
   "execution_count": 16,
   "metadata": {},
   "outputs": [],
   "source": [
    "os.chdir('C:/Users/chiaming/Desktop/python')"
   ]
  },
  {
   "cell_type": "code",
   "execution_count": 3,
   "metadata": {},
   "outputs": [],
   "source": [
    "driver = webdriver.Chrome(executable_path=\"chromedriver.exe\")\n",
    "driver.get(\"https://www.com.tw/cross/\")\n",
    "school_link = ['中原大學','元智大學','東吳大學','東海大學','長庚大學','國立東華大學','國立臺中教育大學','淡江大學','逢甲大學','臺北市立大學','輔仁大學','世新大學','實踐大學','銘傳大學']\n"
   ]
  },
  {
   "cell_type": "markdown",
   "metadata": {},
   "source": [
    "### step2.爬取十四校108年資料"
   ]
  },
  {
   "cell_type": "code",
   "execution_count": 4,
   "metadata": {},
   "outputs": [
    {
     "name": "stdout",
     "output_type": "stream",
     "text": [
      "【中原大學】\n",
      ">>第1個系\n",
      ">>第2個系\n",
      ">>第3個系\n",
      ">>第4個系\n",
      ">>第5個系\n",
      ">>第6個系\n"
     ]
    },
    {
     "ename": "KeyboardInterrupt",
     "evalue": "",
     "output_type": "error",
     "traceback": [
      "\u001b[1;31m---------------------------------------------------------------------------\u001b[0m",
      "\u001b[1;31mKeyboardInterrupt\u001b[0m                         Traceback (most recent call last)",
      "\u001b[1;32m<ipython-input-4-e251901cd1bb>\u001b[0m in \u001b[0;36m<module>\u001b[1;34m\u001b[0m\n\u001b[0;32m     33\u001b[0m             \u001b[0mb\u001b[0m \u001b[1;33m=\u001b[0m \u001b[0mperson\u001b[0m\u001b[1;33m.\u001b[0m\u001b[0mselect\u001b[0m\u001b[1;33m(\u001b[0m\u001b[1;34m'tbody:nth-of-type(3) > tr:nth-of-type('\u001b[0m\u001b[1;33m+\u001b[0m\u001b[0mstr\u001b[0m\u001b[1;33m(\u001b[0m\u001b[0mthird_url\u001b[0m\u001b[1;33m+\u001b[0m\u001b[1;36m4\u001b[0m\u001b[1;33m)\u001b[0m\u001b[1;33m+\u001b[0m\u001b[1;34m') > td:nth-of-type(5) tbody > tr > td:nth-of-type(3)'\u001b[0m\u001b[1;33m)\u001b[0m\u001b[1;33m\u001b[0m\u001b[1;33m\u001b[0m\u001b[0m\n\u001b[0;32m     34\u001b[0m             \u001b[0monly_person_region\u001b[0m \u001b[1;33m=\u001b[0m \u001b[1;33m[\u001b[0m\u001b[0mregion\u001b[0m\u001b[1;33m.\u001b[0m\u001b[0mtext\u001b[0m\u001b[1;33m.\u001b[0m\u001b[0mstrip\u001b[0m\u001b[1;33m(\u001b[0m\u001b[1;33m)\u001b[0m\u001b[1;33m.\u001b[0m\u001b[0mreplace\u001b[0m\u001b[1;33m(\u001b[0m\u001b[1;34m\"考區 : \"\u001b[0m\u001b[1;33m,\u001b[0m\u001b[1;34m\"\"\u001b[0m\u001b[1;33m)\u001b[0m \u001b[1;32mfor\u001b[0m \u001b[0mregion\u001b[0m \u001b[1;32min\u001b[0m \u001b[0mperson\u001b[0m\u001b[1;33m.\u001b[0m\u001b[0mselect\u001b[0m\u001b[1;33m(\u001b[0m\u001b[1;34m'tbody:nth-of-type(3) > tr:nth-of-type('\u001b[0m\u001b[1;33m+\u001b[0m\u001b[0mstr\u001b[0m\u001b[1;33m(\u001b[0m\u001b[0mthird_url\u001b[0m\u001b[1;33m+\u001b[0m\u001b[1;36m4\u001b[0m\u001b[1;33m)\u001b[0m\u001b[1;33m+\u001b[0m\u001b[1;34m') > td:nth-of-type(3) a'\u001b[0m\u001b[1;33m)\u001b[0m\u001b[1;33m]\u001b[0m\u001b[1;33m\u001b[0m\u001b[1;33m\u001b[0m\u001b[0m\n\u001b[1;32m---> 35\u001b[1;33m             \u001b[0monly_person_name\u001b[0m \u001b[1;33m=\u001b[0m \u001b[1;33m[\u001b[0m \u001b[0mname\u001b[0m\u001b[1;33m.\u001b[0m\u001b[0mtext\u001b[0m\u001b[1;33m.\u001b[0m\u001b[0mstrip\u001b[0m\u001b[1;33m(\u001b[0m\u001b[1;33m)\u001b[0m \u001b[1;32mfor\u001b[0m \u001b[0mname\u001b[0m \u001b[1;32min\u001b[0m \u001b[0mperson\u001b[0m\u001b[1;33m.\u001b[0m\u001b[0mselect\u001b[0m\u001b[1;33m(\u001b[0m\u001b[1;34m'tbody:nth-of-type(3) > tr:nth-of-type('\u001b[0m\u001b[1;33m+\u001b[0m\u001b[0mstr\u001b[0m\u001b[1;33m(\u001b[0m\u001b[0mthird_url\u001b[0m\u001b[1;33m+\u001b[0m\u001b[1;36m4\u001b[0m\u001b[1;33m)\u001b[0m\u001b[1;33m+\u001b[0m\u001b[1;34m') > td:nth-of-type(4)'\u001b[0m\u001b[1;33m)\u001b[0m\u001b[1;33m]\u001b[0m\u001b[1;33m\u001b[0m\u001b[1;33m\u001b[0m\u001b[0m\n\u001b[0m\u001b[0;32m     36\u001b[0m \u001b[1;33m\u001b[0m\u001b[0m\n\u001b[0;32m     37\u001b[0m             \u001b[0minroll\u001b[0m \u001b[1;33m=\u001b[0m \u001b[1;33m[\u001b[0m\u001b[1;33m]\u001b[0m\u001b[1;33m\u001b[0m\u001b[1;33m\u001b[0m\u001b[0m\n",
      "\u001b[1;32m~\\Anaconda3\\lib\\site-packages\\bs4\\element.py\u001b[0m in \u001b[0;36mselect\u001b[1;34m(self, selector, _candidate_generator, limit)\u001b[0m\n\u001b[0;32m   1609\u001b[0m                 \u001b[1;32mfor\u001b[0m \u001b[0mcandidate\u001b[0m \u001b[1;32min\u001b[0m \u001b[0m_use_candidate_generator\u001b[0m\u001b[1;33m(\u001b[0m\u001b[0mtag\u001b[0m\u001b[1;33m)\u001b[0m\u001b[1;33m:\u001b[0m\u001b[1;33m\u001b[0m\u001b[1;33m\u001b[0m\u001b[0m\n\u001b[0;32m   1610\u001b[0m                     \u001b[1;32mif\u001b[0m \u001b[1;32mnot\u001b[0m \u001b[0misinstance\u001b[0m\u001b[1;33m(\u001b[0m\u001b[0mcandidate\u001b[0m\u001b[1;33m,\u001b[0m \u001b[0mTag\u001b[0m\u001b[1;33m)\u001b[0m\u001b[1;33m:\u001b[0m\u001b[1;33m\u001b[0m\u001b[1;33m\u001b[0m\u001b[0m\n\u001b[1;32m-> 1611\u001b[1;33m                         \u001b[1;32mcontinue\u001b[0m\u001b[1;33m\u001b[0m\u001b[1;33m\u001b[0m\u001b[0m\n\u001b[0m\u001b[0;32m   1612\u001b[0m                     \u001b[1;32mif\u001b[0m \u001b[0mtag_name\u001b[0m \u001b[1;32mand\u001b[0m \u001b[0mcandidate\u001b[0m\u001b[1;33m.\u001b[0m\u001b[0mname\u001b[0m \u001b[1;33m!=\u001b[0m \u001b[0mtag_name\u001b[0m\u001b[1;33m:\u001b[0m\u001b[1;33m\u001b[0m\u001b[1;33m\u001b[0m\u001b[0m\n\u001b[0;32m   1613\u001b[0m                         \u001b[1;32mcontinue\u001b[0m\u001b[1;33m\u001b[0m\u001b[1;33m\u001b[0m\u001b[0m\n",
      "\u001b[1;31mKeyboardInterrupt\u001b[0m: "
     ]
    }
   ],
   "source": [
    "time_start = time.time()\n",
    "for first_url in school_link:\n",
    "    WebDriverWait(driver, 10).until(lambda d: d.find_element_by_link_text(first_url)).click()\n",
    "    print(\"【\"+first_url+\"】\")\n",
    "    x = BeautifulSoup(driver.page_source,'lxml')\n",
    "    dept_html = x.select('tbody > tr > td:nth-of-type(2) a[href^=\"check_0\"]')\n",
    "    university_index = []\n",
    "    university_name = []\n",
    "    university_region = []\n",
    "    university_school = []\n",
    "    university_just_school = []\n",
    "    university_just_dept = []\n",
    "    university_enroll = []\n",
    "    university_inroll = []\n",
    "    for second_url in range(len(dept_html)):\n",
    "        print(\">>第\"+str(second_url+1)+\"個系\")\n",
    "        driver.get(\"https://www.com.tw/cross/\"+dept_html[second_url]['href'])\n",
    "        count = 0\n",
    "        person_school = []\n",
    "        person_just_school = []\n",
    "        person_just_dept = []\n",
    "        person_enroll = []\n",
    "        person_index = []\n",
    "        person_region = []\n",
    "        person_name = []\n",
    "        person_inroll = []\n",
    "        person = BeautifulSoup(driver.page_source,'lxml')\n",
    "        only_person_index = [ index.text.strip() for index in person.select('tbody:nth-of-type(3) > tr[\"bgcolor\"] > td:nth-of-type(2) div') ]\n",
    "        person_len = len(only_person_index)\n",
    "        for third_url in range(person_len):\n",
    "            #學校、學校正備取\n",
    "            a = person.select('tbody:nth-of-type(3) > tr:nth-of-type('+str(third_url+4)+') > td:nth-of-type(5) tbody > tr > td:nth-of-type(2)')\n",
    "            b = person.select('tbody:nth-of-type(3) > tr:nth-of-type('+str(third_url+4)+') > td:nth-of-type(5) tbody > tr > td:nth-of-type(3)')\n",
    "            only_person_region = [region.text.strip().replace(\"考區 : \",\"\") for region in person.select('tbody:nth-of-type(3) > tr:nth-of-type('+str(third_url+4)+') > td:nth-of-type(3) a')]\n",
    "            only_person_name = [ name.text.strip() for name in person.select('tbody:nth-of-type(3) > tr:nth-of-type('+str(third_url+4)+') > td:nth-of-type(4)')]\n",
    "            \n",
    "            inroll = []\n",
    "            inro = person.select('tbody:nth-of-type(3) > tr:nth-of-type('+str(third_url+4)+') > td:nth-of-type(5) tbody > tr > td:nth-of-type(1) > div:nth-of-type(1)')\n",
    "            for i in inro:\n",
    "                if i.select('img') != []:\n",
    "                    inroll.append('分發錄取')\n",
    "                else:\n",
    "                    inroll.append('')\n",
    "            cou = 0 #算分發錄取用\n",
    "            \n",
    "            for i,k in zip(a,b):\n",
    "                if i.text.strip() == \"\" and k.text.strip() == \"\":\n",
    "                    cou +=1\n",
    "                    continue\n",
    "                else:\n",
    "                    person_inroll.append(inroll[cou])\n",
    "                    cou +=1\n",
    "                    word = i.text.strip().replace(\"\\n\",\"\").replace('中原大學中原大學與美國天普大學商學管理雙學士學位學程','中原大學美國天普商學管理雙學士學位學程').replace('大學 ','大學').replace('大學','大學 ').replace('技術學院','技術學院 ').replace('健康學院','健康學院 ').replace('中信金融管理學院','中信金融管理學院 ').replace('稻江科技暨管理學院','稻江科技暨管理學院 ').replace(\"醫學院\",\"醫學院 \").replace(\"基督學院\",\"基督學院 \")\n",
    "                    person_school.append(word)\n",
    "                    person_enroll.append(k.text.strip().replace(\"\\n\",\"\"))\n",
    "                    person_just_school.append(word.split(\" \")[0])\n",
    "                    person_just_dept.append(word.split(\" \")[1])\n",
    "                    person_index.append(only_person_index[count])\n",
    "                    person_region.append(only_person_region[0])\n",
    "                    person_name.append(only_person_name[0])\n",
    "            count +=1 \n",
    "        dept = pd.DataFrame({'排名':person_index,'考區':person_region,'姓名':person_name,'分發錄取':person_inroll,'申請學校':person_school,'學校':person_just_school,'系所':person_just_dept,'正錄取':person_enroll})\n",
    "        dept.to_excel(a[0].text.strip().replace('\\n','').replace('/','')+'.xlsx',sheet_name=a[0].text.strip().replace('\\n','').replace('/',''))\n",
    "        university_index += person_index\n",
    "        university_name += person_name\n",
    "        university_region += person_region\n",
    "        university_school += person_school\n",
    "        university_just_school += person_just_school\n",
    "        university_just_dept += person_just_dept\n",
    "        university_enroll += person_enroll\n",
    "        university_inroll += person_inroll\n",
    "        WebDriverWait(driver, 10).until(lambda d: d.find_element_by_link_text('回其他學系')).click()\n",
    "    univer = pd.DataFrame({'排名':university_index,'考區':university_region,'姓名':university_name,'分發錄取':university_inroll,'申請學校':university_school,'學校':university_just_school,'系所':university_just_dept,'正錄取':university_enroll})\n",
    "    univer.to_excel(first_url.replace('/','')+'.xlsx',sheet_name=first_url.replace('/',''))\n",
    "    WebDriverWait(driver, 10).until(lambda d: d.find_element_by_link_text('回一般大學')).click()\n",
    "\n",
    "time_end = time.time()\n",
    "print(time_end-time_start)"
   ]
  },
  {
   "cell_type": "markdown",
   "metadata": {},
   "source": [
    "### step3.各校資料表所有系合併\n",
    "* 這裡會跑十四次 (因為一校就要合併所有系成為一個大資料表一次)"
   ]
  },
  {
   "cell_type": "code",
   "execution_count": 3,
   "metadata": {},
   "outputs": [],
   "source": [
    "all_data = pd.DataFrame()\n",
    "for i in range(len(school_link)):\n",
    "    globals()['col'+str(i+1)] = pd.read_excel(\"C:/Users/chiaming/Desktop/中原十四校(全)/\"+school_link[i]+'.xlsx')\n",
    "    all_data = all_data.append(globals()['col'+str(i+1)])"
   ]
  },
  {
   "cell_type": "markdown",
   "metadata": {},
   "source": [
    "# 二、資料庫分析："
   ]
  },
  {
   "cell_type": "markdown",
   "metadata": {},
   "source": [
    "### step1.讀各系資料表進來"
   ]
  },
  {
   "cell_type": "code",
   "execution_count": 3,
   "metadata": {},
   "outputs": [],
   "source": [
    "os.chdir('C:/Users/chiaming/Desktop/中原十四校/中原108/商學院/原始資料')"
   ]
  },
  {
   "cell_type": "code",
   "execution_count": 2,
   "metadata": {},
   "outputs": [],
   "source": [
    "science_name = ['中原大學 企業管理學系服務業管理組','中原大學 企業管理學系高科技業管理組','中原大學 企業管理學系工商管理組','中原大學 國際經營與貿易學系','中原大學 會計學系','中原大學 資訊管理學系','中原大學 財務金融學系','中原大學 美國天普商學管理雙學士學位學程']\n",
    "science_path = [i.replace('中原大學 ','中原大學') for i in science_name]"
   ]
  },
  {
   "cell_type": "code",
   "execution_count": 4,
   "metadata": {},
   "outputs": [],
   "source": [
    "for file in range(len(science_path)):\n",
    "    globals()['file'+str(file+1)] = pd.read_excel(science_path[file]+'.xlsx')"
   ]
  },
  {
   "cell_type": "code",
   "execution_count": null,
   "metadata": {},
   "outputs": [],
   "source": [
    "commerce = pd.DataFrame()\n",
    "for i in range(len(science_name)):\n",
    "    commerce = commerce.append(region_count(eval('file'+str(i+1))))"
   ]
  },
  {
   "cell_type": "markdown",
   "metadata": {},
   "source": [
    "### step2.建立資料清洗函式\n",
    "* 抓指考仔函式\n",
    "* 分析各系就讀&放棄中原人數，並輸出成 [流入] [流出] 資料表函式\n",
    "* 這邊要手工調的部分是 讀取資料用函式時，要去改路徑 (在step.1)"
   ]
  },
  {
   "cell_type": "markdown",
   "metadata": {},
   "source": [
    "#### >>抓指考仔函式"
   ]
  },
  {
   "cell_type": "code",
   "execution_count": 878,
   "metadata": {},
   "outputs": [],
   "source": [
    "def find_not(file):\n",
    "    count = 0\n",
    "    region = file.iloc[-1,-1]\n",
    "    for i in range(region):\n",
    "        check = file[file['區域']==i+1]\n",
    "        if(check['分發錄取'].isna().sum() == len(check)):\n",
    "            count +=1\n",
    "            print('指考仔區域:'+str(i+1))\n",
    "    print(\"指考人數:\"+str(count))"
   ]
  },
  {
   "cell_type": "markdown",
   "metadata": {},
   "source": [
    "#### >>分析函式"
   ]
  },
  {
   "cell_type": "code",
   "execution_count": 1204,
   "metadata": {},
   "outputs": [],
   "source": [
    "##算區域個數\n",
    "def region_counter(file,pos):\n",
    "    file = file[file['排名'].str.contains('原|離|金|澎|連')==False]\n",
    "    \n",
    "    print('----------------------------------------------')\n",
    "    print('【'+pos+'】')\n",
    "    last = file[file['分發錄取'].isin(['分發錄取']) & file['申請學校'].isin([pos])].index[-1]\n",
    "    \n",
    "    region_contain = []\n",
    "    region = 0\n",
    "    check = file.iloc[0,1]\n",
    "    name = file.iloc[0,2]\n",
    "    for row in range(len(file)):\n",
    "        if((check,name) == (file.iloc[row,1],file.iloc[row,2])):\n",
    "            region+=1\n",
    "        else:\n",
    "            check = file.iloc[row,1]\n",
    "            name = file.iloc[row,2]\n",
    "        #print(region)\n",
    "            region_contain.append(region)\n",
    "            region=1\n",
    "\n",
    "    ##標記區域\n",
    "    index_col = []\n",
    "    count = 0\n",
    "    for i in region_contain:\n",
    "        count += 1\n",
    "        for row in range(i):\n",
    "            index_col.append(count)\n",
    "    \n",
    "    tail = index_col[-1] \n",
    "    for i in range(len(file)-len(index_col)):\n",
    "        index_col.append(tail+1)\n",
    "    \n",
    "    file['區域'] = index_col \n",
    "    \n",
    "    for i in range(20):\n",
    "        try:\n",
    "            if(tuple(list(file.loc[last,['考區','姓名']].values)) != tuple(list(file.loc[(last+i),['考區','姓名']].values))):\n",
    "                x = last+i-1\n",
    "                break\n",
    "        except:\n",
    "            x = last+i-1\n",
    "            break\n",
    "    print('最後一個錄取: '+str(x))\n",
    "    real = file.loc[:x,:]\n",
    "    \n",
    "    find_not(real)\n",
    "    \n",
    "    find_drop = real[(real['分發錄取'].isna() == False) & (real['申請學校'].isin([pos])==False)]\n",
    "    find_in =  real[(real['分發錄取'].isna() == False) & (real['申請學校'].isin([pos])==True)]\n",
    "    \n",
    "    print('共有幾人: '+str(real.drop_duplicates(['排名']).shape[0]))\n",
    "    print('放棄: '+str(find_drop.drop_duplicates(['排名']).shape[0]))\n",
    "    print('入學: '+str(find_in.shape[0]))\n",
    "    \n",
    "    ### 列篩選 isin (丟list複合篩選)\n",
    "    find_EN = find_drop.iloc[:,0:3].values\n",
    "    l = [tuple(i) for i in find_EN]\n",
    "    drop1 = file[file[['排名','考區', '姓名']].apply(tuple, axis = 1).isin(l)]\n",
    "    \n",
    "    dept = drop1[drop1['分發錄取']=='分發錄取']['申請學校'].value_counts().index\n",
    "    value = drop1[drop1['分發錄取']=='分發錄取']['申請學校'].value_counts().values\n",
    "    pd.DataFrame({'學校':dept,'流出個數':value}).to_excel('[流出]'+pos+'.xlsx')\n",
    "    print('[流出]'+pos+'---輸出完成')\n",
    "    \n",
    "    ### 列篩選 isin (丟list複合篩選)\n",
    "    find_In = find_in.iloc[:,0:3].values\n",
    "    In = [tuple(i) for i in find_In]\n",
    "    enroll1 = file[file[['排名','考區', '姓名']].apply(tuple, axis = 1).isin(In)]\n",
    "    \n",
    "    dept_In = enroll1['申請學校'].value_counts().index\n",
    "    value_In = enroll1['申請學校'].value_counts().values\n",
    "    pd.DataFrame({'學校':dept_In,'流入個數':value_In})\n",
    "    pd.DataFrame({'學校':dept_In,'流入個數':value_In}).to_excel('[流入]'+pos+'.xlsx')\n",
    "    print('[流入]'+pos+'---輸出完成')\n",
    "\n",
    "    return real"
   ]
  },
  {
   "cell_type": "markdown",
   "metadata": {},
   "source": [
    "### step3.資料分析\n",
    "* 利用step.1讀取之資料跑step.2建立之函式"
   ]
  },
  {
   "cell_type": "code",
   "execution_count": 1205,
   "metadata": {},
   "outputs": [
    {
     "name": "stdout",
     "output_type": "stream",
     "text": [
      "----------------------------------------------\n",
      "【中原大學 企業管理學系服務業管理組】\n",
      "最後一個錄取: 220\n",
      "指考人數:0\n",
      "共有幾人: 56\n",
      "放棄: 33\n",
      "入學: 23\n",
      "[流出]中原大學 企業管理學系服務業管理組---輸出完成\n",
      "[流入]中原大學 企業管理學系服務業管理組---輸出完成\n",
      "----------------------------------------------\n",
      "【中原大學 企業管理學系高科技業管理組】\n",
      "最後一個錄取: 262\n",
      "指考仔區域:1\n",
      "指考人數:1\n",
      "共有幾人: 69\n",
      "放棄: 44\n",
      "入學: 24\n",
      "[流出]中原大學 企業管理學系高科技業管理組---輸出完成\n",
      "[流入]中原大學 企業管理學系高科技業管理組---輸出完成\n",
      "----------------------------------------------\n",
      "【中原大學 企業管理學系工商管理組】\n",
      "最後一個錄取: 479\n",
      "指考仔區域:117\n",
      "指考人數:1\n",
      "共有幾人: 121\n",
      "放棄: 78\n",
      "入學: 42\n",
      "[流出]中原大學 企業管理學系工商管理組---輸出完成\n",
      "[流入]中原大學 企業管理學系工商管理組---輸出完成\n",
      "----------------------------------------------\n",
      "【中原大學 國際經營與貿易學系】\n",
      "最後一個錄取: 653\n",
      "指考仔區域:15\n",
      "指考仔區域:16\n",
      "指考人數:2\n",
      "共有幾人: 150\n",
      "放棄: 106\n",
      "入學: 42\n",
      "[流出]中原大學 國際經營與貿易學系---輸出完成\n",
      "[流入]中原大學 國際經營與貿易學系---輸出完成\n",
      "----------------------------------------------\n",
      "【中原大學 會計學系】\n",
      "最後一個錄取: 855\n",
      "指考仔區域:20\n",
      "指考仔區域:130\n",
      "指考仔區域:146\n",
      "指考仔區域:168\n",
      "指考仔區域:203\n",
      "指考仔區域:220\n",
      "指考人數:6\n",
      "共有幾人: 224\n",
      "放棄: 130\n",
      "入學: 88\n",
      "[流出]中原大學 會計學系---輸出完成\n",
      "[流入]中原大學 會計學系---輸出完成\n",
      "----------------------------------------------\n",
      "【中原大學 資訊管理學系】\n",
      "最後一個錄取: 469\n",
      "指考仔區域:13\n",
      "指考仔區域:67\n",
      "指考仔區域:92\n",
      "指考仔區域:102\n",
      "指考人數:4\n",
      "共有幾人: 110\n",
      "放棄: 58\n",
      "入學: 48\n",
      "[流出]中原大學 資訊管理學系---輸出完成\n",
      "[流入]中原大學 資訊管理學系---輸出完成\n",
      "----------------------------------------------\n",
      "【中原大學 財務金融學系】\n",
      "最後一個錄取: 654\n",
      "指考人數:0\n",
      "共有幾人: 159\n",
      "放棄: 101\n",
      "入學: 58\n",
      "[流出]中原大學 財務金融學系---輸出完成\n",
      "[流入]中原大學 財務金融學系---輸出完成\n",
      "----------------------------------------------\n",
      "【中原大學 美國天普商學管理雙學士學位學程】\n",
      "最後一個錄取: 114\n",
      "指考仔區域:23\n",
      "指考人數:1\n",
      "共有幾人: 27\n",
      "放棄: 16\n",
      "入學: 10\n",
      "[流出]中原大學 美國天普商學管理雙學士學位學程---輸出完成\n",
      "[流入]中原大學 美國天普商學管理雙學士學位學程---輸出完成\n"
     ]
    }
   ],
   "source": [
    "for i in range(len(science_name)):\n",
    "    region_counter(eval('file'+str(i+1)),science_name[i])"
   ]
  }
 ],
 "metadata": {
  "kernelspec": {
   "display_name": "Python 3",
   "language": "python",
   "name": "python3"
  },
  "language_info": {
   "codemirror_mode": {
    "name": "ipython",
    "version": 3
   },
   "file_extension": ".py",
   "mimetype": "text/x-python",
   "name": "python",
   "nbconvert_exporter": "python",
   "pygments_lexer": "ipython3",
   "version": "3.7.1"
  }
 },
 "nbformat": 4,
 "nbformat_minor": 2
}
