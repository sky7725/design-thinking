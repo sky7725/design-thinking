{
 "cells": [
  {
   "cell_type": "code",
   "execution_count": 14,
   "metadata": {},
   "outputs": [
    {
     "data": {
      "text/plain": [
       "<matplotlib.axes._subplots.AxesSubplot at 0x1bab6eb3a58>"
      ]
     },
     "execution_count": 14,
     "metadata": {},
     "output_type": "execute_result"
    },
    {
     "data": {
      "image/png": "[encoded data removed]",
      "text/plain": [
       "<Figure size 432x288 with 1 Axes>"
      ]
     },
     "metadata": {
      "needs_background": "light"
     },
     "output_type": "display_data"
    }
   ],
   "source": [
    "import pandas as pd\n",
    "df = pd.read_excel('tmp3177.xls')\n",
    "df_keep = df.iloc[2:]\n",
    "df_keep.columns = ['C'] \n",
    "df_keep2 = df_keep.astype(float) \n",
    "df_keep2.plot()   "
   ]
  },
  {
   "cell_type": "code",
   "execution_count": 27,
   "metadata": {},
   "outputs": [
    {
     "data": {
      "text/plain": [
       "DatetimeIndex(['2007-01-01'], dtype='datetime64[ns]', freq=None)"
      ]
     },
     "execution_count": 27,
     "metadata": {},
     "output_type": "execute_result"
    }
   ],
   "source": [
    "a = str(df_keep2.index[24]) \n",
    "a_new = a[:4] + '-Q' + a[-1] \n",
    "a_date = pd.DatetimeIndex([a_new]) \n",
    "a_date \n",
    "\n",
    "# 差別在a只是字串 a_new則有到月份 a_data則為時間型態且精細到日期"
   ]
  },
  {
   "cell_type": "code",
   "execution_count": 28,
   "metadata": {},
   "outputs": [
    {
     "name": "stdout",
     "output_type": "stream",
     "text": [
      "76\n"
     ]
    },
    {
     "data": {
      "text/plain": [
       "array([ 0,  1,  2,  3,  4,  5,  6,  7,  8,  9, 10, 11, 12, 13, 14, 15, 16,\n",
       "       17, 18, 19, 20, 21, 22, 23, 24, 25, 26, 27, 28, 29, 30, 31, 32, 33,\n",
       "       34, 35, 36, 37, 38, 39, 40, 41, 42, 43, 44, 45, 46, 47, 48, 49, 50,\n",
       "       51, 52, 53, 54, 55, 56, 57, 58, 59, 60, 61, 62, 63, 64, 65, 66, 67,\n",
       "       68, 69, 70, 71, 72, 73, 74, 75])"
      ]
     },
     "execution_count": 28,
     "metadata": {},
     "output_type": "execute_result"
    }
   ],
   "source": [
    "import numpy as np \n",
    "idx_num = len(df_keep2) \n",
    "print(idx_num) \n",
    "np.arange(idx_num)"
   ]
  },
  {
   "cell_type": "code",
   "execution_count": 29,
   "metadata": {},
   "outputs": [
    {
     "data": {
      "text/plain": [
       "[12,\n",
       " 15,\n",
       " 18,\n",
       " 21,\n",
       " 24,\n",
       " 27,\n",
       " 30,\n",
       " 33,\n",
       " 36,\n",
       " 39,\n",
       " 42,\n",
       " 45,\n",
       " 48,\n",
       " 51,\n",
       " 54,\n",
       " 57,\n",
       " 60,\n",
       " 63,\n",
       " 66,\n",
       " 69,\n",
       " 72,\n",
       " 75,\n",
       " 78,\n",
       " 81,\n",
       " 84,\n",
       " 87,\n",
       " 90,\n",
       " 93,\n",
       " 96,\n",
       " 99,\n",
       " 102,\n",
       " 105,\n",
       " 108,\n",
       " 111,\n",
       " 114,\n",
       " 117,\n",
       " 120,\n",
       " 123,\n",
       " 126,\n",
       " 129,\n",
       " 132,\n",
       " 135,\n",
       " 138,\n",
       " 141,\n",
       " 144,\n",
       " 147,\n",
       " 150,\n",
       " 153,\n",
       " 156,\n",
       " 159,\n",
       " 162,\n",
       " 165,\n",
       " 168,\n",
       " 171,\n",
       " 174,\n",
       " 177,\n",
       " 180,\n",
       " 183,\n",
       " 186,\n",
       " 189,\n",
       " 192,\n",
       " 195,\n",
       " 198,\n",
       " 201,\n",
       " 204,\n",
       " 207,\n",
       " 210,\n",
       " 213,\n",
       " 216,\n",
       " 219,\n",
       " 222,\n",
       " 225,\n",
       " 228,\n",
       " 231,\n",
       " 234,\n",
       " 237]"
      ]
     },
     "execution_count": 29,
     "metadata": {},
     "output_type": "execute_result"
    }
   ],
   "source": [
    "res = []   \n",
    "for i in np.arange(idx_num):   \n",
    "    a = 3*i + 12   \n",
    "    res.append(a)   \n",
    "res  \n",
    "\n",
    "#res的值 為idx_num經過線性調整而來"
   ]
  },
  {
   "cell_type": "code",
   "execution_count": 34,
   "metadata": {},
   "outputs": [
    {
     "data": {
      "text/plain": [
       "['2001-Q1',\n",
       " '2001-Q2',\n",
       " '2001-Q3',\n",
       " '2001-Q4',\n",
       " '2002-Q1',\n",
       " '2002-Q2',\n",
       " '2002-Q3',\n",
       " '2002-Q4',\n",
       " '2003-Q1',\n",
       " '2003-Q2',\n",
       " '2003-Q3',\n",
       " '2003-Q4',\n",
       " '2004-Q1',\n",
       " '2004-Q2',\n",
       " '2004-Q3',\n",
       " '2004-Q4',\n",
       " '2005-Q1',\n",
       " '2005-Q2',\n",
       " '2005-Q3',\n",
       " '2005-Q4',\n",
       " '2006-Q1',\n",
       " '2006-Q2',\n",
       " '2006-Q3',\n",
       " '2006-Q4',\n",
       " '2007-Q1',\n",
       " '2007-Q2',\n",
       " '2007-Q3',\n",
       " '2007-Q4',\n",
       " '2008-Q1',\n",
       " '2008-Q2',\n",
       " '2008-Q3',\n",
       " '2008-Q4',\n",
       " '2009-Q1',\n",
       " '2009-Q2',\n",
       " '2009-Q3',\n",
       " '2009-Q4',\n",
       " '2010-Q1',\n",
       " '2010-Q2',\n",
       " '2010-Q3',\n",
       " '2010-Q4',\n",
       " '2011-Q1',\n",
       " '2011-Q2',\n",
       " '2011-Q3',\n",
       " '2011-Q4',\n",
       " '2012-Q1',\n",
       " '2012-Q2',\n",
       " '2012-Q3',\n",
       " '2012-Q4',\n",
       " '2013-Q1',\n",
       " '2013-Q2',\n",
       " '2013-Q3',\n",
       " '2013-Q4',\n",
       " '2014-Q1',\n",
       " '2014-Q2',\n",
       " '2014-Q3',\n",
       " '2014-Q4',\n",
       " '2015-Q1',\n",
       " '2015-Q2',\n",
       " '2015-Q3',\n",
       " '2015-Q4',\n",
       " '2016-Q1',\n",
       " '2016-Q2',\n",
       " '2016-Q3',\n",
       " '2016-Q4',\n",
       " '2017-Q1',\n",
       " '2017-Q2',\n",
       " '2017-Q3',\n",
       " '2017-Q4',\n",
       " '2018-Q1',\n",
       " '2018-Q2',\n",
       " '2018-Q3',\n",
       " '2018-Q4',\n",
       " '2019-Q1',\n",
       " '2019-Q2',\n",
       " '2019-Q3',\n",
       " '2019-Q4']"
      ]
     },
     "execution_count": 34,
     "metadata": {},
     "output_type": "execute_result"
    }
   ],
   "source": [
    "res = [] \n",
    "for i in np.arange(idx_num):\n",
    "    a = str(df_keep2.index[i]) \n",
    "    a_new = a[:4] + '-Q' + a [-1]\n",
    "    res.append(a_new)  \n",
    "\n",
    "res_time = pd.DatetimeIndex(res) \n",
    "res_time;res\n",
    "\n",
    "#res為字串的向量型態 , res_time則確實為時間資料型態"
   ]
  }
 ],
 "metadata": {
  "kernelspec": {
   "display_name": "Python 3",
   "language": "python",
   "name": "python3"
  },
  "language_info": {
   "codemirror_mode": {
    "name": "ipython",
    "version": 3
   },
   "file_extension": ".py",
   "mimetype": "text/x-python",
   "name": "python",
   "nbconvert_exporter": "python",
   "pygments_lexer": "ipython3",
   "version": "3.7.1"
  }
 },
 "nbformat": 4,
 "nbformat_minor": 2
}
