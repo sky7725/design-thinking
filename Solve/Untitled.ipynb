{
 "cells": [
  {
   "cell_type": "code",
   "execution_count": 7,
   "metadata": {},
   "outputs": [
    {
     "data": {
      "text/plain": [
       "array([-0.76072136+1.31369649j, -0.76072136-1.31369649j,\n",
       "        1.04144272+0.j        ])"
      ]
     },
     "execution_count": 7,
     "metadata": {},
     "output_type": "execute_result"
    }
   ],
   "source": [
    "#作業五 第1題的f小題\n",
    "\n",
    "from numpy import roots\n",
    "p1 = 0.3\n",
    "p2 = 0.2\n",
    "r = 0.5\n",
    "R3 = 1.2\n",
    "\n",
    "roots([1-p1-p2,p2*R3,p1*R3,-R3])"
   ]
  },
  {
   "cell_type": "code",
   "execution_count": 11,
   "metadata": {},
   "outputs": [
    {
     "data": {
      "text/plain": [
       "array([0.375, 1.   , 0.5  ])"
      ]
     },
     "execution_count": 11,
     "metadata": {},
     "output_type": "execute_result"
    }
   ],
   "source": [
    "#作業五 第2題的c小題\n",
    "\n",
    "from scipy.optimize import fsolve\n",
    "\n",
    "Y0 = 0.5 # Y_t\n",
    "Y1 = 0.5 #Y_t+1\n",
    "pb = 0.25 #p_t^b\n",
    "bet = 2/3 # beta\n",
    "\n",
    "def find_res(x):\n",
    "    C0 = x[0]\n",
    "    C1 = x[1]\n",
    "    B = x[2]\n",
    "    eq0 = (Y1 + B)*pb - bet*(Y0-pb*B)\n",
    "    eq1 = C0 + pb*B - Y0\n",
    "    eq2 = C1 - B - Y1\n",
    "    return eq0, eq1, eq2\n",
    "fsolve(find_res, [1,1,1])\n",
    "\n",
    "#與b小題的答案一致"
   ]
  }
 ],
 "metadata": {
  "kernelspec": {
   "display_name": "Python 3",
   "language": "python",
   "name": "python3"
  },
  "language_info": {
   "codemirror_mode": {
    "name": "ipython",
    "version": 3
   },
   "file_extension": ".py",
   "mimetype": "text/x-python",
   "name": "python",
   "nbconvert_exporter": "python",
   "pygments_lexer": "ipython3",
   "version": "3.7.1"
  }
 },
 "nbformat": 4,
 "nbformat_minor": 2
}
